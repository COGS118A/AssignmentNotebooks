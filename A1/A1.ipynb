{
 "cells": [
  {
   "cell_type": "markdown",
   "metadata": {
    "nbgrader": {
     "grade": false,
     "grade_id": "cell-68f2f0ed9883b594",
     "locked": true,
     "schema_version": 3,
     "solution": false,
     "task": false
    }
   },
   "source": [
    "# Assignment 1\n",
    "\n",
    "\n",
    "## **Due: April 12th (Wednesday), 2023, 8pm (Pacific Time)**\n",
    "\n",
    "### **Instructions:**\n",
    "\n",
    "Your Jupyter notebook assignment will often have 3 elements: written answers, code answers, and quiz answers. For written answers, you may insert images of your handwritten work in code cells, or write your answers in markdown and LaTeX. For quiz answers, your `record.txt` file will record your answer choices in the quiz modules for submission. Both your quiz answers and code answers will be autograded on Gradescope. This assignment does not have the quiz portion.\n",
    "\n",
    "For all elements, DO NOT MODIFY THE CELLS. Put your answers **only** in the answer cells given, and **do not delete cells**. If you fail to follow these instructions, you will lose points on your submission.\n",
    "\n",
    "Make sure to show the steps of your solution for every question to receive credit, not just the final answer. You may search information online but you will need to write code/find solutions to answer the questions yourself. You will submit your .ipynb file and record.txt to gradescope when you are finished.\n",
    "\n",
    "### **Late Policy:**\n",
    "\n",
    "Late assignments will be accepted at 75% credit up to one week late. Consult the syllabus for more info on the late policy.\n",
    "\n",
    "### How to Include Your Math Written Answer?\n",
    "\n",
    "You could use inline $\\LaTeX$ in markdown (recommended) or use markdowns' include image functionality to submit your written responses.\n",
    "\n",
    "#### $\\LaTeX$ (recommended)\n",
    "[Here is a fantastic tutorial from CalTech about using $\\LaTeX$ in Jupyter Notebook.](http://chebe163.caltech.edu/2018w/handouts/intro_to_latex.html). You could also find various $\\LaTeX$ tutorials and cheat sheets online.\n",
    "\n",
    "#### Include Images\n",
    "If you are still getting familiar with using LaTeX, handwrite the response on paper or the stylus. Take a picture or screenshot of your answer, and include that image in the Jupyter Notebook. Be sure to include that image in the `\\imgs` directory. Let's say you have your Q1 response saved as `imgs/Q1.png`; the markdown syntax to include that image is `![Q1](imgs/Q1.png)`. \n",
    "\n",
    "## Important Notice\n",
    "\n",
    "Only the response in the cell of _`Type your answer here, replacing this text.`_ will be recorded. Any additional cell will not be graded.\n",
    "\n",
    "You must check both submission output on the gradescope (`Assignment 1 - Notebook` and `Assignment 1 - Manual Grading`) correctly reflects your work and responses. If you notice inconsistencies between your notebook and the Manual Grading portion, you need to make a campuswire post, and we can help you with that.\n",
    "\n",
    "**Other**\n",
    "\n",
    "If you are not feeling comfortable with the programming assignments in this homework, it might help to take a look at [https://github.com/UCSD-COGS108/Tutorials](https://github.com/UCSD-COGS108/Tutorials)."
   ]
  },
  {
   "cell_type": "code",
   "execution_count": null,
   "metadata": {},
   "outputs": [],
   "source": [
    "%load_ext autoreload\n",
    "%autoreload 2\n",
    "\n",
    "# Run me\n",
    "!pip uninstall -y otter-grader\n",
    "!pip install -q  git+https://github.com/scott-yj-yang/otter-grader.git --no-warn-script-location\n",
    "    \n",
    "# Initialize Otter\n",
    "import otter\n",
    "grader = otter.Notebook(\"A1.ipynb\")"
   ]
  },
  {
   "cell_type": "markdown",
   "metadata": {},
   "source": [
    "<!-- BEGIN QUESTION -->\n",
    "\n",
    "## Question 1: Basic Calculus\n",
    "\n",
    "### 1.1 Derivatives with Scalars\n",
    "1. $f(x) = 2\\lambda + e^{\\lambda x}$, where $\\lambda$ is a constant, derive $\\frac{\\partial f(x)}{\\partial x}$.\n",
    "\n",
    "2. $f(x) = \\ln (3 - e^x)$, derive  $\\frac{\\partial f(x)}{\\partial x}$\n",
    "\n",
    "**Note:** Only the response in the cell of _`Type your answer here, replacing this text.`_ will be recorded. Any additional cell will not be graded.\n",
    "\n",
    "_Points:_ 0.4"
   ]
  },
  {
   "cell_type": "markdown",
   "metadata": {},
   "source": [
    "_Type your answer here, replacing this text._"
   ]
  },
  {
   "cell_type": "markdown",
   "metadata": {},
   "source": [
    "<!-- END QUESTION -->\n",
    "\n",
    "<!-- BEGIN QUESTION -->\n",
    "\n",
    "\n",
    "### 1.2 Derivatives with Vectors\n",
    "Several particular vector derivatives are useful for the course. For matrix **A**, column vector **x** and **a**, we have:\n",
    "\n",
    "- $\\frac{\\partial \\mathbf a^T \\mathbf x}{\\partial \\mathbf x} = \\frac{\\partial \\mathbf x^T \\mathbf a}{\\partial \\mathbf x} = \\mathbf a$ \n",
    "- $\\frac{\\partial \\mathbf x^T \\mathbf A \\mathbf x}{\\partial \\mathbf x} = (\\mathbf A + \\mathbf A^T) \\mathbf x$. If $\\mathbf A$ is symmetric, $\\frac{\\partial \\mathbf x^T \\mathbf A \\mathbf x}{\\partial \\mathbf x} = 2 \\mathbf A \\mathbf x$.\n",
    "\n",
    "\n",
    "The above rules adopt a denominator-layout notation. For more rules, you can refer to [this Wikipedia page](https://en.wikipedia.org/wiki/Matrix_calculus#Scalar-by-vector_identities). Please apply the above rules and calculate the following derivatives:\n",
    "\n",
    "1. $f(x) = \\lambda (1- \\mathbf a^T \\mathbf x)$, where $\\lambda$ is a constant, derive $\\frac{\\partial f(\\mathbf x)}{\\partial \\mathbf x}$.\n",
    "\n",
    "2. $f(x) = \\lambda (1 - \\mathbf x^T \\mathbf A \\mathbf x)$ where $A$ is a symmetric matrix and $\\lambda$ is a constant, derive  $\\frac{\\partial f(\\mathbf x)}{\\partial \\mathbf x}$.\n",
    "\n",
    "\n",
    "**Note:** Only the response in the cell of _`Type your answer here, replacing this text.`_ will be recorded. Any additional cell will not be graded.\n",
    "\n",
    "_Points:_ 0.4"
   ]
  },
  {
   "cell_type": "markdown",
   "metadata": {},
   "source": [
    "_Type your answer here, replacing this text._"
   ]
  },
  {
   "cell_type": "markdown",
   "metadata": {},
   "source": [
    "<!-- END QUESTION -->\n",
    "\n",
    "<!-- BEGIN QUESTION -->\n",
    "\n",
    "## Question 2: Solving Equations\n",
    "\n",
    "1. Given a system of linear equations:\n",
    "\n",
    "    $$\n",
    "    \\begin{cases}\n",
    "    -3 w_1 + 4 w_2 & = 1 \\\\\n",
    "    w_1 - 2 w_2 & = -1\n",
    "    \\end{cases}\n",
    "    $$\n",
    "\n",
    "     a) Solve for $(w_1, w_2)$.\n",
    "\n",
    "     b) Once you obtain $(w_1, w_2)$ in Part a, please calculate final result $y$ from $y = w_1x_1 + w_2x_2$ when $(x_1, x_2) = (2, 3)$.\n",
    "\n",
    "2. Given a system of equations:\n",
    "\n",
    " $$\n",
    "    \\begin{cases}\n",
    "    -3 w_1 + 4 w_2 & = b \\\\\n",
    "    w_1 - 2 w_2 & = -b \\\\\n",
    "    w_1^2 + w_2^2 & = 1\n",
    "    \\end{cases}\n",
    "    $$\n",
    "\n",
    "Solve for $(w_1, w_2, b)$.\n",
    "\n",
    "**Note:** Only the response in the cell of _`Type your answer here, replacing this text.`_ will be recorded. Any additional cell will not be graded.\n",
    "\n",
    "_Points:_ 0.4"
   ]
  },
  {
   "cell_type": "markdown",
   "metadata": {},
   "source": [
    "_Type your answer here, replacing this text._"
   ]
  },
  {
   "cell_type": "markdown",
   "metadata": {},
   "source": [
    "<!-- END QUESTION -->\n",
    "\n",
    "<!-- BEGIN QUESTION -->\n",
    "\n",
    "## Question 3: One-Hot Encoding\n",
    "\n",
    "A dataset $S$ is denoted as $S=\\{{\\bf x}_1,{\\bf x}_2,{\\bf x}_3,{\\bf x}_4,{\\bf x}_5 \\}$, where each sample refers to the specification of a car.\n",
    "\n",
    "Represent this dataset $S$ using a matrix and show how your one-hot encoding is derived. \n",
    "\n",
    "**Hint**: (1) For the categorical features, you may use the one-hot encoding strategy. (2) You may choose either a row vector or a column vector to represent each data sample in your result. If you use a row vector to represent each data sample, the shape of the resulting matrix should be $5\\times9$.\n",
    "\n",
    "|          | Length (inch) | Height (inch) | Make   | Color  |\n",
    "|----------|----------------|----------------|--------|--------|\n",
    "| ${\\bf x}_1$ | 183            | 62             | Toyota | Blue   |\n",
    "| ${\\bf x}_2$ | 181            | 65             | BMW    | Silver |\n",
    "| ${\\bf x}_3$ | 182            | 59             | BMW    | Red    |\n",
    "| ${\\bf x}_4$ | 179            | 68             | Ford   | Blue   |\n",
    "| ${\\bf x}_5$ | 182            | 53             | Toyota | Black  |\n",
    "\n",
    "\n",
    "**Note:** Only the response in the cell of _`Type your answer here, replacing this text.`_ will be recorded. Any additional cell will not be graded.\n",
    "\n",
    "_Points:_ 0.2"
   ]
  },
  {
   "cell_type": "markdown",
   "metadata": {},
   "source": [
    "_Type your answer here, replacing this text._"
   ]
  },
  {
   "cell_type": "markdown",
   "metadata": {},
   "source": [
    "<!-- END QUESTION -->\n",
    "\n",
    "## Question 4: Multiple Choice Question\n",
    "Select the correct option(s). Note that there might be multiple correct options.\n",
    "\n",
    "1. For two monotonically increasing functions $f(x)$ and $g(x)$:\n",
    "\n",
    "    A. $f(x)+g(x)$ is always monotonically increasing.  \n",
    "    B. $f(x)-g(x)$ is always monotonically increasing.  \n",
    "    C. $f(x^2)$ is always monotonically increasing.  \n",
    "    D. $f(x^3)$ is always monotonically increasing.  \n",
    "\n",
    "\n",
    "2. For a function $f(x) = x(10-x), x\\in\\mathbb{R}$, please choose the correct statement(s) below:\n",
    "\n",
    "    A. $\\arg\\max_{x} f(x) = 5$.  \n",
    "    B. $\\arg\\min_{x} f(x) = 25$.  \n",
    "    C. $\\min_{x} f(x) = 5$.  \n",
    "    D. $\\max_{x} f(x) = 25$.  \n",
    "\n",
    "\n",
    "3. Assume we have a function $f(x)$ which is differentiable at every $x\\in \\mathbb{R}$. There are three properties that describe the function $f(x)$:\n",
    "    (1) $f(x)$ is a convex function.\n",
    "    (2) When $x = x_{0}$, $f'(x_{0})=0$.\n",
    "    (3) $f(x_{0})$ is a global minimum of $f(x)$.\n",
    "    \n",
    "    Which one of the following statements is **wrong**?  \n",
    "    **Hint:** You can use a failure case to disprove a statement.\n",
    "    \n",
    "    A. Given (1) and (2), we can prove that (3) holds.  \n",
    "    B. Given (2) and (3), we can prove that (1) holds.  \n",
    "    C. Given (1) and (3), we can prove that (2) holds.  \n",
    "\n",
    "**Note:** The `grader.check()` only checks whether you have responded reasonably (Only the `A/B/C/D` answer). This check will not guarantee the correctness of your answer.\n",
    "\n",
    "_Points:_ 0.3"
   ]
  },
  {
   "cell_type": "code",
   "execution_count": null,
   "metadata": {
    "tags": []
   },
   "outputs": [],
   "source": [
    "q4_1 = []\n",
    "q4_1 = ..."
   ]
  },
  {
   "cell_type": "code",
   "execution_count": null,
   "metadata": {
    "tags": []
   },
   "outputs": [],
   "source": [
    "q4_2 = []\n",
    "q4_2 = ..."
   ]
  },
  {
   "cell_type": "code",
   "execution_count": null,
   "metadata": {
    "tags": []
   },
   "outputs": [],
   "source": [
    "q4_3 = []\n",
    "q4_3 = ..."
   ]
  },
  {
   "cell_type": "code",
   "execution_count": null,
   "metadata": {
    "deletable": false,
    "editable": false
   },
   "outputs": [],
   "source": [
    "grader.check(\"conceptual\")"
   ]
  },
  {
   "cell_type": "markdown",
   "metadata": {},
   "source": [
    "<!-- BEGIN QUESTION -->\n",
    "\n",
    "## Question 5: Convexity\n",
    "\n",
    "Identify the convexity for the following six functions. Which functions are **convex**? Which are **non-convex**? Which are **strictly convex**? Simply write the letters for each function graph in your answer.\n",
    "\n",
    "![convexity](imgs/convexity.png)\n",
    "\n",
    "**Note:** Only the response in the cell of _`Type your answer here, replacing this text.`_ will be recorded. Any additional cell will not be graded.\n",
    "\n",
    "_Points:_ 0.3"
   ]
  },
  {
   "cell_type": "markdown",
   "metadata": {},
   "source": [
    "_Type your answer here, replacing this text._"
   ]
  },
  {
   "cell_type": "markdown",
   "metadata": {},
   "source": [
    "<!-- END QUESTION -->\n",
    "\n",
    "<!-- BEGIN QUESTION -->\n",
    "\n",
    "## Question 6: Basic Plots Using Matplotlib\n",
    "\n",
    "Matplotlib is a very useful library to plot graphs. Later in the course, you may need to plot your own graphs in your report such as: loss vs. iteration, accuracy vs. category. We will start with a simple exercise.\n",
    "\n",
    "This code creates a graph with the original sine curve and another curve where 5 iterations of Gaussian noise (0 mean, 0.1 standard deviation) are added to the original sine curve."
   ]
  },
  {
   "cell_type": "code",
   "execution_count": null,
   "metadata": {
    "scrolled": false
   },
   "outputs": [],
   "source": [
    "import numpy as np\n",
    "import matplotlib.pyplot as plt\n",
    "\n",
    "np.random.seed(0)\n",
    "space = np.linspace(0, 10, num = 50)\n",
    "sine = np.sin(space)\n",
    "sine_5 = sine\n",
    "\n",
    "for i in range(5):\n",
    "    sine_5 = sine_5 + np.random.normal(scale = 0.1, size = 50)\n",
    "    \n",
    "plt.scatter(space, sine, color = 'b', label = 'sine curve')\n",
    "plt.plot(space, sine_5, color = 'r', label = 'noise_5_iters')\n",
    "plt.legend(loc = 'upper right')\n",
    "plt.show()"
   ]
  },
  {
   "cell_type": "markdown",
   "metadata": {},
   "source": [
    "In the cell below, copy the approach above but add two new curves to the plot. Each should have a different color to distinguish it from the other curves. The new curves will add 20 and 100 iterations of Gaussian noise (0 mean, 0.1 standard deviation) onto the original sine curve. Plot the two new curves you obtained as well as the curve from the original code. The legend should label the new curves as noise 20 iters and noise 100 iters. Report your code and the final plot: one figure with four differently colored curves (original, 5 iters, 20 iters, 100 iters).\n",
    "\n",
    "_Points:_ 0.4"
   ]
  },
  {
   "cell_type": "code",
   "execution_count": null,
   "metadata": {
    "tags": []
   },
   "outputs": [],
   "source": [
    "import numpy as np\n",
    "import matplotlib.pyplot as plt\n",
    "np.random.seed(0)\n",
    "space = np.linspace(0, 10, num = 50)\n",
    "sine = np.sin(space)\n",
    "\n",
    "..."
   ]
  },
  {
   "cell_type": "markdown",
   "metadata": {},
   "source": [
    "<!-- END QUESTION -->\n",
    "\n",
    "## Question 7: Data Manipulation"
   ]
  },
  {
   "cell_type": "code",
   "execution_count": null,
   "metadata": {},
   "outputs": [],
   "source": [
    "import matplotlib.pyplot as plt\n",
    "from sklearn import datasets\n",
    "\n",
    "# Load Iris Dataset\n",
    "iris = datasets.load_iris()\n",
    "X = iris.data\n",
    "Y = iris.target"
   ]
  },
  {
   "cell_type": "markdown",
   "metadata": {},
   "source": [
    "Some useful instructions are shown below:\n",
    "\n",
    "- Get a row or a column of the array X"
   ]
  },
  {
   "cell_type": "code",
   "execution_count": null,
   "metadata": {},
   "outputs": [],
   "source": [
    "print(X[0]) # Print the first row of array X.\n",
    "print(X[:, 0]) # Print the first column of array X.\n",
    "# ':' here means all rows and '0' means column 0."
   ]
  },
  {
   "cell_type": "markdown",
   "metadata": {},
   "source": [
    "- Get part of the array"
   ]
  },
  {
   "cell_type": "code",
   "execution_count": null,
   "metadata": {},
   "outputs": [],
   "source": [
    "print(X[3:5, 1:3]) # Print 4th and 5th rows, 2nd and 3rd columns.\n",
    "print(X[:3, :2]) # Print first 3 rows, first 2 columns."
   ]
  },
  {
   "cell_type": "markdown",
   "metadata": {},
   "source": [
    "### Question 7.1 \n",
    "Show the first 2 features of the first 5 data points (i.e. first 2 columns and first 5 rows) of array X. (You can print the 5×2 array).\n",
    "\n",
    "_Points:_ 0.1"
   ]
  },
  {
   "cell_type": "code",
   "execution_count": null,
   "metadata": {
    "tags": []
   },
   "outputs": [],
   "source": [
    "def q1(array):\n",
    "    array = ...\n",
    "    return array"
   ]
  },
  {
   "cell_type": "markdown",
   "metadata": {},
   "source": [
    "### Question 7.2\n",
    "Calculate the mean and the variance of the 2nd feature (the 2nd column) of array X.\n",
    "\n",
    "_Points:_ 0.1"
   ]
  },
  {
   "cell_type": "code",
   "execution_count": null,
   "metadata": {
    "tags": []
   },
   "outputs": [],
   "source": [
    "def q2(array):\n",
    "    ...\n",
    "    return mean, var"
   ]
  },
  {
   "cell_type": "markdown",
   "metadata": {},
   "source": [
    "### Question 7.3\n",
    " Perform a linear projection on the 1st 3 features of all data points using the weight vector $\\mathbf w$, where $\\mathbf w = (3, 2, 1)$. You can do so by calculating a dot product between the 1st 3 features of all data points and the weight vector $\\mathbf w$. The shape of projected data points should be (150, 1) or (150,), depending on the weight vector is regarded as a matrix or a vector. Calculate the mean of the projected data points.\n",
    " \n",
    " Hint: You can calculate the projection with a single line code using np.dot, but you should be careful with the dimension matching for the dot product.\n",
    "\n",
    "_Points:_ 0.1"
   ]
  },
  {
   "cell_type": "code",
   "execution_count": null,
   "metadata": {},
   "outputs": [],
   "source": [
    "w = np.array([3,2,1])"
   ]
  },
  {
   "cell_type": "code",
   "execution_count": null,
   "metadata": {
    "tags": []
   },
   "outputs": [],
   "source": [
    "def q3(array, projection_vector):\n",
    "    ...\n",
    "    return mean"
   ]
  },
  {
   "cell_type": "markdown",
   "metadata": {},
   "source": [
    " ### Question 7.4\n",
    " Randomly sample 3 data points (rows) of array X by randomly choosing the row indices. Show the indices and the sampled data points.\n",
    "\n",
    "Hint: np.random.randint\n",
    "\n",
    "_Points:_ 0.1"
   ]
  },
  {
   "cell_type": "code",
   "execution_count": null,
   "metadata": {
    "tags": []
   },
   "outputs": [],
   "source": [
    "def q4(array):\n",
    "    ...\n",
    "    return matrix"
   ]
  },
  {
   "cell_type": "markdown",
   "metadata": {},
   "source": [
    "### Question 7.5\n",
    "Add one more feature (one more column) to the array X after the last feature. The values of the added feature for all data points are constant 1. Show the first data point (first row) of the new array.\n",
    "\n",
    "Hint: np.ones, np.hstack\n",
    "\n",
    "_Points:_ 0.1"
   ]
  },
  {
   "cell_type": "code",
   "execution_count": null,
   "metadata": {
    "tags": []
   },
   "outputs": [],
   "source": [
    "def q5(array):\n",
    "    ...\n",
    "    return row"
   ]
  },
  {
   "cell_type": "markdown",
   "metadata": {},
   "source": [
    "### Question 7.6\n",
    "Add one more data point (one more row) to the array X after the last data point. The value of the added data point is the same as the first data point. Show the first feature (first column) of the new array.\n",
    "\n",
    "Hint: `np.vstack`\n",
    "\n",
    "_Points:_ 0.1"
   ]
  },
  {
   "cell_type": "code",
   "execution_count": null,
   "metadata": {
    "tags": []
   },
   "outputs": [],
   "source": [
    "def q6(array):\n",
    "    ...\n",
    "    return matrix"
   ]
  },
  {
   "cell_type": "markdown",
   "metadata": {},
   "source": [
    "# End of A1"
   ]
  },
  {
   "cell_type": "markdown",
   "metadata": {
    "deletable": false,
    "editable": false
   },
   "source": [
    "## Submission\n",
    "\n",
    "Make sure you have run all cells in your notebook in order before running the cell below, so that all images/graphs appear in the output. The cell below will generate a zip file for you to submit.\n",
    "\n",
    "Please make sure to see the output of the gradescope autograder. You are responsible for waiting and ensuring that the autograder is executing normally for your submission. Please create a campuswire post if you see errors in autograder execution. Only the images in the directory `imgs` will be zipped and submit to gradescope."
   ]
  },
  {
   "cell_type": "code",
   "execution_count": null,
   "metadata": {
    "deletable": false,
    "editable": false
   },
   "outputs": [],
   "source": [
    "grader.export(pdf=False, force_save=True, run_tests=True, files=['imgs'])"
   ]
  },
  {
   "cell_type": "markdown",
   "metadata": {},
   "source": [
    " "
   ]
  }
 ],
 "metadata": {
  "celltoolbar": "Raw Cell Format",
  "kernelspec": {
   "display_name": "Python 3 (ipykernel)",
   "language": "python",
   "name": "python3"
  },
  "language_info": {
   "codemirror_mode": {
    "name": "ipython",
    "version": 3
   },
   "file_extension": ".py",
   "mimetype": "text/x-python",
   "name": "python",
   "nbconvert_exporter": "python",
   "pygments_lexer": "ipython3",
   "version": "3.10.9"
  },
  "otter": {
   "OK_FORMAT": true,
   "tests": {
    "conceptual": {
     "name": "conceptual",
     "points": 0.3,
     "suites": [
      {
       "cases": [
        {
         "code": ">>> # sanity check\n>>> all_options = [\"A\", \"B\", \"C\", \"D\"]\n>>> check_valid = lambda ans, all_options: all([chosen in all_options for chosen in ans])\n>>> assert check_valid(q4_1, all_options), \"Is your answer within the option of A/B/C/D?\"\n>>> assert check_valid(q4_2, all_options), \"Is your answer within the option of A/B/C/D?\"\n>>> assert check_valid(q4_3, all_options), \"Is your answer within the option of A/B/C/D?\"\n",
         "hidden": false,
         "locked": false
        }
       ],
       "scored": true,
       "setup": "",
       "teardown": "",
       "type": "doctest"
      }
     ]
    },
    "data manipulation1": {
     "name": "data manipulation1",
     "points": 0.1,
     "suites": [
      {
       "cases": [],
       "scored": true,
       "setup": "",
       "teardown": "",
       "type": "doctest"
      }
     ]
    },
    "data manipulation2": {
     "name": "data manipulation2",
     "points": 0.1,
     "suites": [
      {
       "cases": [],
       "scored": true,
       "setup": "",
       "teardown": "",
       "type": "doctest"
      }
     ]
    },
    "data manipulation3": {
     "name": "data manipulation3",
     "points": 0.1,
     "suites": [
      {
       "cases": [],
       "scored": true,
       "setup": "",
       "teardown": "",
       "type": "doctest"
      }
     ]
    },
    "data manipulation4": {
     "name": "data manipulation4",
     "points": 0.1,
     "suites": [
      {
       "cases": [],
       "scored": true,
       "setup": "",
       "teardown": "",
       "type": "doctest"
      }
     ]
    },
    "data manipulation5": {
     "name": "data manipulation5",
     "points": 0.1,
     "suites": [
      {
       "cases": [],
       "scored": true,
       "setup": "",
       "teardown": "",
       "type": "doctest"
      }
     ]
    },
    "data manipulation6": {
     "name": "data manipulation6",
     "points": 0.1,
     "suites": [
      {
       "cases": [],
       "scored": true,
       "setup": "",
       "teardown": "",
       "type": "doctest"
      }
     ]
    }
   }
  }
 },
 "nbformat": 4,
 "nbformat_minor": 5
}
